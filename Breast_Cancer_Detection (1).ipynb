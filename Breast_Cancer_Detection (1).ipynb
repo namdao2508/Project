{
  "cells": [
    {
      "cell_type": "markdown",
      "metadata": {
        "id": "EElcvsCt2kmZ"
      },
      "source": [
        "# Breast cancer detection project"
      ]
    },
    {
      "cell_type": "markdown",
      "metadata": {
        "id": "gbzNnMLL26xY"
      },
      "source": [
        "# I. Gathering Data"
      ]
    },
    {
      "cell_type": "code",
      "execution_count": null,
      "metadata": {
        "id": "J87yLjL62jky"
      },
      "outputs": [],
      "source": [
        "# IMPORTS\n",
        "import kagglehub\n",
        "import numpy as np\n",
        "import tensorflow as tf\n",
        "import random\n",
        "import glob\n",
        "import matplotlib.pyplot as plt\n",
        "import os\n",
        "import sklearn\n",
        "from sklearn.model_selection import train_test_split"
      ]
    },
    {
      "cell_type": "code",
      "execution_count": null,
      "metadata": {
        "colab": {
          "background_save": true,
          "base_uri": "https://localhost:8080/"
        },
        "id": "FtNB8-dH2sfa",
        "outputId": "87986517-f977-4d9b-9bd0-fee4bba6ebe1"
      },
      "outputs": [
        {
          "name": "stdout",
          "output_type": "stream",
          "text": [
            "Download already complete (3326820824 bytes).\n",
            "Extracting files...\n",
            "Path to dataset files: /root/.cache/kagglehub/datasets/paultimothymooney/breast-histopathology-images/versions/1\n"
          ]
        }
      ],
      "source": [
        "import kagglehub\n",
        "\n",
        "# Download histopathology images and save path\n",
        "path = kagglehub.dataset_download(\"paultimothymooney/breast-histopathology-images\")\n",
        "\n",
        "print(\"Path to dataset files:\", path)"
      ]
    },
    {
      "cell_type": "code",
      "execution_count": null,
      "metadata": {
        "id": "vknJzb2Z2596"
      },
      "outputs": [],
      "source": [
        "import os\n",
        "\n",
        "dataPath = os.path.join(os.path.expanduser(\"~\"), \".cache/kagglehub/datasets/paultimothymooney/breast-histopathology-images/versions/1\")\n",
        "print(dataPath)"
      ]
    },
    {
      "cell_type": "markdown",
      "metadata": {
        "id": "gVLL1vUN3COR"
      },
      "source": [
        "## II. Data Handling"
      ]
    },
    {
      "cell_type": "code",
      "execution_count": null,
      "metadata": {
        "colab": {
          "base_uri": "https://localhost:8080/"
        },
        "id": "XH_aTDzs3DVk",
        "outputId": "b88c4768-6010-4daa-bf1f-5191a299b5b4"
      },
      "outputs": [
        {
          "name": "stdout",
          "output_type": "stream",
          "text": [
            "Number of IDC negative patches:  198738\n",
            "Number of IDC positive patches:  78786\n",
            "Total number of patches:  277524\n"
          ]
        }
      ],
      "source": [
        "# Get all the paths to the images\n",
        "# glob allows for pattern matching to get all the photo paths\n",
        "idc_neg = glob.glob(dataPath +'/*/0/*.png', recursive = True)\n",
        "idc_pos = glob.glob(dataPath +'/*/1/*.png', recursive = True)\n",
        "\n",
        "# Total : 277,524 patches of size 50 x 50 (198,738 IDC negative and 78,786 IDC positive)\n",
        "print(\"Number of IDC negative patches: \", len(idc_neg))\n",
        "print(\"Number of IDC positive patches: \", len(idc_pos))\n",
        "print(\"Total number of patches: \", len(idc_neg) + len(idc_pos))"
      ]
    },
    {
      "cell_type": "code",
      "execution_count": null,
      "metadata": {
        "colab": {
          "base_uri": "https://localhost:8080/",
          "height": 428
        },
        "id": "55V4WM9wK4pO",
        "outputId": "9289650a-abbd-4cce-cc28-c03ce56c605d"
      },
      "outputs": [
        {
          "data": {
            "image/png": "[encoded data removed]",
            "text/plain": [
              "<Figure size 640x480 with 1 Axes>"
            ]
          },
          "metadata": {},
          "output_type": "display_data"
        }
      ],
      "source": [
        "import cv2\n",
        "import matplotlib.pyplot as plt\n",
        "\n",
        "def image_to_numpy(image_path, target_size=(50, 50)):\n",
        "    # Load the image in BGR format\n",
        "    img = cv2.imread(image_path, cv2.IMREAD_COLOR)\n",
        "    if img is None:\n",
        "        raise ValueError(f\"Image not found or unable to load: {image_path}\")\n",
        "\n",
        "    # Convert BGR to RGB\n",
        "    img_rgb = cv2.cvtColor(img, cv2.COLOR_BGR2RGB)\n",
        "\n",
        "    # Resize the image to the target size\n",
        "    img_resized = cv2.resize(img_rgb, target_size, interpolation=cv2.INTER_AREA)\n",
        "\n",
        "    return img_resized / 255  # Normalize pixel values to [0,1]\n",
        "\n",
        "# Example usage: Load a sample image\n",
        "example_image_path = dataPath + '/8863/0/8863_idx5_x51_y1251_class0.png'\n",
        "example_tensor = image_to_numpy(example_image_path)\n",
        "\n",
        "# Display the image\n",
        "plt.imshow(example_tensor)\n",
        "plt.axis(\"off\")  # Hide axes for better visualization\n",
        "plt.title(\"Sample Image\")\n",
        "plt.show()\n"
      ]
    },
    {
      "cell_type": "code",
      "execution_count": null,
      "metadata": {
        "colab": {
          "base_uri": "https://localhost:8080/"
        },
        "id": "n67lfzQE3GgE",
        "outputId": "96446dfe-a2a2-4c85-de7e-d184d74518e6"
      },
      "outputs": [
        {
          "name": "stdout",
          "output_type": "stream",
          "text": [
            "Shape of the tensor:  (50, 50, 3)\n"
          ]
        }
      ],
      "source": [
        "# Function to convert the image to a tensor\n",
        "import cv2\n",
        "\n",
        "def image_to_numpy(image_path, target_size=(50, 50)):\n",
        "    # Load the image in BGR format\n",
        "    img = cv2.imread(image_path, cv2.IMREAD_COLOR)\n",
        "    if img is None:\n",
        "        raise ValueError(f\"Image not found or unable to load: {image_path}\")\n",
        "\n",
        "    # Convert BGR to RGB\n",
        "    img_rgb = cv2.cvtColor(img, cv2.COLOR_BGR2RGB)\n",
        "\n",
        "    # Resize the image to the target size\n",
        "    img_resized = cv2.resize(img_rgb, target_size, interpolation=cv2.INTER_AREA)\n",
        "\n",
        "    return img_resized / 255\n",
        "\n",
        "# Example usage\n",
        "example_image_path = '/8863/0/8863_idx5_x51_y1251_class0.png'\n",
        "example_tensor = image_to_numpy(dataPath + example_image_path)\n",
        "print(\"Shape of the tensor: \", example_tensor.shape)"
      ]
    },
    {
      "cell_type": "code",
      "execution_count": null,
      "metadata": {
        "colab": {
          "base_uri": "https://localhost:8080/",
          "height": 432
        },
        "id": "tg-JS1sM3H7C",
        "outputId": "728a445e-9559-4cab-eff7-4e8e5e6fb97c"
      },
      "outputs": [
        {
          "data": {
            "image/png": "[encoded data removed]",
            "text/plain": [
              "<Figure size 640x480 with 1 Axes>"
            ]
          },
          "metadata": {},
          "output_type": "display_data"
        }
      ],
      "source": [
        "# Function to plot the image\n",
        "def plot_image(image_path):\n",
        "    img = cv2.imread(image_path)\n",
        "    img_rgb = cv2.cvtColor(img, cv2.COLOR_BGR2RGB)\n",
        "    plt.imshow(img_rgb)\n",
        "\n",
        "# Example usage\n",
        "plot_image(idc_neg[0])\n",
        "\n"
      ]
    },
    {
      "cell_type": "markdown",
      "metadata": {
        "id": "ojsmdcnB7vRP"
      },
      "source": [
        "## III. Data analysis & Data Preparation"
      ]
    },
    {
      "cell_type": "code",
      "execution_count": null,
      "metadata": {
        "colab": {
          "base_uri": "https://localhost:8080/"
        },
        "id": "4s-D9ar7GQ34",
        "outputId": "cde4dc42-99df-48c4-c366-b1f861709487"
      },
      "outputs": [
        {
          "name": "stdout",
          "output_type": "stream",
          "text": [
            "(24000, 50, 50, 3)\n",
            "(24000,)\n",
            "\n",
            "(19200, 50, 50, 3)\n",
            "(19200,)\n",
            "(4800, 50, 50, 3)\n",
            "(4800,)\n"
          ]
        }
      ],
      "source": [
        "# Get 12000 random idc negative image and convert to numpy arrays\n",
        "idc_neg_numpy = []\n",
        "\n",
        "for i in random.sample(range(0, len(idc_neg)), 12000):\n",
        "    idc_neg_numpy.append(image_to_numpy(idc_neg[i]))\n",
        "\n",
        "# Get 12000 random idc positive image and convert to numpy arrays\n",
        "idc_pos_numpy = []\n",
        "\n",
        "for i in random.sample(range(0, len(idc_pos)), 12000):\n",
        "    idc_pos_numpy.append(image_to_numpy(idc_pos[i]))\n",
        "\n",
        "# We combine the negative and positive data and create a y lable numpy array.\n",
        "X = np.array(idc_neg_numpy + idc_pos_numpy)\n",
        "y = np.array([0] * len(idc_neg_numpy) + [1] * len(idc_pos_numpy))\n",
        "print(X.shape)\n",
        "print(y.shape)\n",
        "print()\n",
        "\n",
        "# get X train, X test, y train, y test with sklearn.model_selection's train_test_split\n",
        "# test split is 20%\n",
        "X_train, X_test, y_train, y_test = train_test_split(X, y, test_size=0.2, random_state=42)\n",
        "print(X_train.shape)\n",
        "print(y_train.shape)\n",
        "print(X_test.shape)\n",
        "print(y_test.shape)\n"
      ]
    },
    {
      "cell_type": "markdown",
      "metadata": {
        "id": "rk5PoyUu3UtB"
      },
      "source": [
        "## IV. Model Building"
      ]
    },
    {
      "cell_type": "markdown",
      "metadata": {
        "id": "P5z0QXfhMkoG"
      },
      "source": [
        "#### Model 1"
      ]
    },
    {
      "cell_type": "code",
      "execution_count": null,
      "metadata": {
        "id": "a9G1f76r3UKM"
      },
      "outputs": [],
      "source": [
        "from keras.models import Sequential\n",
        "from keras.layers import Dense, Conv2D, MaxPooling2D, Dropout, Flatten\n",
        "from keras.optimizers import SGD, Adam\n",
        "from keras.callbacks import EarlyStopping, ModelCheckpoint"
      ]
    },
    {
      "cell_type": "code",
      "execution_count": null,
      "metadata": {
        "colab": {
          "base_uri": "https://localhost:8080/"
        },
        "id": "kruo991U3XR2",
        "outputId": "0800296c-f671-43d1-b83d-c493b89a5b55"
      },
      "outputs": [
        {
          "name": "stderr",
          "output_type": "stream",
          "text": [
            "/usr/local/lib/python3.11/dist-packages/keras/src/layers/convolutional/base_conv.py:107: UserWarning: Do not pass an `input_shape`/`input_dim` argument to a layer. When using Sequential models, prefer using an `Input(shape)` object as the first layer in the model instead.\n",
            "  super().__init__(activity_regularizer=activity_regularizer, **kwargs)\n"
          ]
        }
      ],
      "source": [
        "#Initialize the Sequential model:\n",
        "model1 = Sequential()\n",
        "\n",
        "model1.add(Conv2D(32, (5, 5), strides=(1, 1), input_shape=(50, 50, 3), activation='relu', data_format=\"channels_last\"))\n",
        "model1.add(Conv2D(64, (5, 5), activation='relu'))\n",
        "model1.add(MaxPooling2D(pool_size=(2, 2), strides=(2, 2)))\n",
        "model1.add(Flatten())\n",
        "model1.add(Dense(1, activation='sigmoid'))\n",
        "\n",
        "#Compiling the model, loss: categorical crossentropy, it is the most popular for these kind of problems,\n",
        "#metrics: accuracy (We want to know the accuracy after each epoch.)\n",
        "model1.compile(loss='binary_crossentropy', optimizer='adam', metrics=['accuracy'])\n"
      ]
    },
    {
      "cell_type": "code",
      "execution_count": null,
      "metadata": {
        "colab": {
          "base_uri": "https://localhost:8080/"
        },
        "id": "7T9ukOfIDhkt",
        "outputId": "a6a40b4c-eb1e-4850-d8aa-3d01c45bf418"
      },
      "outputs": [
        {
          "name": "stdout",
          "output_type": "stream",
          "text": [
            "Epoch 1/10\n",
            "\u001b[1m118/120\u001b[0m \u001b[32m━━━━━━━━━━━━━━━━━━━\u001b[0m\u001b[37m━\u001b[0m \u001b[1m0s\u001b[0m 19ms/step - accuracy: 0.5141 - loss: 0.7629\n",
            "Epoch 1: val_loss improved from inf to 0.66882, saving model to weights1.keras\n",
            "\u001b[1m120/120\u001b[0m \u001b[32m━━━━━━━━━━━━━━━━━━━━\u001b[0m\u001b[37m\u001b[0m \u001b[1m9s\u001b[0m 34ms/step - accuracy: 0.5142 - loss: 0.7614 - val_accuracy: 0.4924 - val_loss: 0.6688\n",
            "Epoch 2/10\n",
            "\u001b[1m118/120\u001b[0m \u001b[32m━━━━━━━━━━━━━━━━━━━\u001b[0m\u001b[37m━\u001b[0m \u001b[1m0s\u001b[0m 20ms/step - accuracy: 0.6037 - loss: 0.6454\n",
            "Epoch 2: val_loss improved from 0.66882 to 0.62480, saving model to weights1.keras\n",
            "\u001b[1m120/120\u001b[0m \u001b[32m━━━━━━━━━━━━━━━━━━━━\u001b[0m\u001b[37m\u001b[0m \u001b[1m3s\u001b[0m 23ms/step - accuracy: 0.6051 - loss: 0.6451 - val_accuracy: 0.7443 - val_loss: 0.6248\n",
            "Epoch 3/10\n",
            "\u001b[1m118/120\u001b[0m \u001b[32m━━━━━━━━━━━━━━━━━━━\u001b[0m\u001b[37m━\u001b[0m \u001b[1m0s\u001b[0m 19ms/step - accuracy: 0.7252 - loss: 0.5893\n",
            "Epoch 3: val_loss improved from 0.62480 to 0.54026, saving model to weights1.keras\n",
            "\u001b[1m120/120\u001b[0m \u001b[32m━━━━━━━━━━━━━━━━━━━━\u001b[0m\u001b[37m\u001b[0m \u001b[1m5s\u001b[0m 22ms/step - accuracy: 0.7254 - loss: 0.5886 - val_accuracy: 0.7398 - val_loss: 0.5403\n",
            "Epoch 4/10\n",
            "\u001b[1m119/120\u001b[0m \u001b[32m━━━━━━━━━━━━━━━━━━━\u001b[0m\u001b[37m━\u001b[0m \u001b[1m0s\u001b[0m 19ms/step - accuracy: 0.7656 - loss: 0.5044\n",
            "Epoch 4: val_loss improved from 0.54026 to 0.52401, saving model to weights1.keras\n",
            "\u001b[1m120/120\u001b[0m \u001b[32m━━━━━━━━━━━━━━━━━━━━\u001b[0m\u001b[37m\u001b[0m \u001b[1m5s\u001b[0m 22ms/step - accuracy: 0.7656 - loss: 0.5043 - val_accuracy: 0.7646 - val_loss: 0.5240\n",
            "Epoch 5/10\n",
            "\u001b[1m120/120\u001b[0m \u001b[32m━━━━━━━━━━━━━━━━━━━━\u001b[0m\u001b[37m\u001b[0m \u001b[1m0s\u001b[0m 21ms/step - accuracy: 0.7645 - loss: 0.5077\n",
            "Epoch 5: val_loss improved from 0.52401 to 0.45793, saving model to weights1.keras\n",
            "\u001b[1m120/120\u001b[0m \u001b[32m━━━━━━━━━━━━━━━━━━━━\u001b[0m\u001b[37m\u001b[0m \u001b[1m5s\u001b[0m 24ms/step - accuracy: 0.7646 - loss: 0.5075 - val_accuracy: 0.8005 - val_loss: 0.4579\n",
            "Epoch 6/10\n",
            "\u001b[1m118/120\u001b[0m \u001b[32m━━━━━━━━━━━━━━━━━━━\u001b[0m\u001b[37m━\u001b[0m \u001b[1m0s\u001b[0m 19ms/step - accuracy: 0.7815 - loss: 0.4764\n",
            "Epoch 6: val_loss did not improve from 0.45793\n",
            "\u001b[1m120/120\u001b[0m \u001b[32m━━━━━━━━━━━━━━━━━━━━\u001b[0m\u001b[37m\u001b[0m \u001b[1m3s\u001b[0m 21ms/step - accuracy: 0.7816 - loss: 0.4761 - val_accuracy: 0.7948 - val_loss: 0.4676\n",
            "Epoch 7/10\n",
            "\u001b[1m120/120\u001b[0m \u001b[32m━━━━━━━━━━━━━━━━━━━━\u001b[0m\u001b[37m\u001b[0m \u001b[1m0s\u001b[0m 20ms/step - accuracy: 0.7810 - loss: 0.4712\n",
            "Epoch 7: val_loss improved from 0.45793 to 0.44660, saving model to weights1.keras\n",
            "\u001b[1m120/120\u001b[0m \u001b[32m━━━━━━━━━━━━━━━━━━━━\u001b[0m\u001b[37m\u001b[0m \u001b[1m5s\u001b[0m 22ms/step - accuracy: 0.7811 - loss: 0.4711 - val_accuracy: 0.8005 - val_loss: 0.4466\n",
            "Epoch 8/10\n",
            "\u001b[1m120/120\u001b[0m \u001b[32m━━━━━━━━━━━━━━━━━━━━\u001b[0m\u001b[37m\u001b[0m \u001b[1m0s\u001b[0m 24ms/step - accuracy: 0.8020 - loss: 0.4452\n",
            "Epoch 8: val_loss improved from 0.44660 to 0.43700, saving model to weights1.keras\n",
            "\u001b[1m120/120\u001b[0m \u001b[32m━━━━━━━━━━━━━━━━━━━━\u001b[0m\u001b[37m\u001b[0m \u001b[1m3s\u001b[0m 27ms/step - accuracy: 0.8020 - loss: 0.4453 - val_accuracy: 0.8070 - val_loss: 0.4370\n",
            "Epoch 9/10\n",
            "\u001b[1m119/120\u001b[0m \u001b[32m━━━━━━━━━━━━━━━━━━━\u001b[0m\u001b[37m━\u001b[0m \u001b[1m0s\u001b[0m 21ms/step - accuracy: 0.8037 - loss: 0.4386\n",
            "Epoch 9: val_loss improved from 0.43700 to 0.43233, saving model to weights1.keras\n",
            "\u001b[1m120/120\u001b[0m \u001b[32m━━━━━━━━━━━━━━━━━━━━\u001b[0m\u001b[37m\u001b[0m \u001b[1m5s\u001b[0m 24ms/step - accuracy: 0.8037 - loss: 0.4387 - val_accuracy: 0.8073 - val_loss: 0.4323\n",
            "Epoch 10/10\n",
            "\u001b[1m119/120\u001b[0m \u001b[32m━━━━━━━━━━━━━━━━━━━\u001b[0m\u001b[37m━\u001b[0m \u001b[1m0s\u001b[0m 20ms/step - accuracy: 0.8035 - loss: 0.4389\n",
            "Epoch 10: val_loss did not improve from 0.43233\n",
            "\u001b[1m120/120\u001b[0m \u001b[32m━━━━━━━━━━━━━━━━━━━━\u001b[0m\u001b[37m\u001b[0m \u001b[1m5s\u001b[0m 23ms/step - accuracy: 0.8034 - loss: 0.4390 - val_accuracy: 0.7914 - val_loss: 0.4634\n"
          ]
        }
      ],
      "source": [
        "# Stop training the model if validation does not improve as to not overfit the model\n",
        "early_stopping=EarlyStopping(patience=10, verbose=1)\n",
        "\n",
        "# Saves the weights of the best models\n",
        "checkpointer=ModelCheckpoint(filepath='weights1.keras', save_best_only=True, verbose=1)\n",
        "\n",
        "#Fit with 10 epochs of 128 batch_size and 0.2 validation split\n",
        "#Specify which callbacks or 'plugins' to use.\n",
        "network_history = model1.fit(X_train, y_train, batch_size=128,\n",
        "                            epochs=10, verbose=1, validation_split=0.2,\n",
        "                  callbacks=[checkpointer, early_stopping])"
      ]
    },
    {
      "cell_type": "code",
      "execution_count": null,
      "metadata": {
        "colab": {
          "base_uri": "https://localhost:8080/"
        },
        "id": "EV5D-MGmF7Qr",
        "outputId": "ce422193-cfa1-49b3-9ad1-5901c6568e81"
      },
      "outputs": [
        {
          "name": "stdout",
          "output_type": "stream",
          "text": [
            "\u001b[1m150/150\u001b[0m \u001b[32m━━━━━━━━━━━━━━━━━━━━\u001b[0m\u001b[37m\u001b[0m \u001b[1m1s\u001b[0m 3ms/step - accuracy: 0.8015 - loss: 0.4410\n",
            "Loss on test set: 0.4359928369522095 Accuracy on test set: 0.8050000071525574\n"
          ]
        }
      ],
      "source": [
        "from keras.models import load_model\n",
        "model1 = load_model(\"weights1.keras\")\n",
        "test_err = model1.evaluate(X_test,y_test)\n",
        "print(\"Loss on test set:\", test_err[0], \"Accuracy on test set:\", test_err[1])"
      ]
    },
    {
      "cell_type": "code",
      "execution_count": null,
      "metadata": {
        "colab": {
          "base_uri": "https://localhost:8080/"
        },
        "id": "BgbjghI9F91_",
        "outputId": "7f07bfc2-8aea-462e-e2bb-544932fe1913"
      },
      "outputs": [
        {
          "name": "stdout",
          "output_type": "stream",
          "text": [
            "\u001b[1m150/150\u001b[0m \u001b[32m━━━━━━━━━━━━━━━━━━━━\u001b[0m\u001b[37m\u001b[0m \u001b[1m1s\u001b[0m 4ms/step\n",
            "[0.7779806]\n",
            "\u001b[1m150/150\u001b[0m \u001b[32m━━━━━━━━━━━━━━━━━━━━\u001b[0m\u001b[37m\u001b[0m \u001b[1m1s\u001b[0m 4ms/step\n",
            "[1]\n",
            "0\n",
            "Test accuracy: 0.805\n",
            "Precision 0.8055103178719266\n",
            "Recall 0.8050753838725857\n",
            "f1_score 0.8049430745326891\n",
            "\n",
            " Confusion matrix \n",
            "[[1973  418]\n",
            " [ 518 1891]]\n"
          ]
        }
      ],
      "source": [
        "from sklearn.metrics import accuracy_score, precision_score, recall_score, f1_score, roc_curve, confusion_matrix\n",
        "\n",
        "y_pred = model1.predict(X_test)\n",
        "print(y_pred[0])\n",
        "y_pred = model1.predict(X_test) > 0.5\n",
        "y_pred = y_pred.astype(int)\n",
        "print(y_pred[0])\n",
        "y_true = y_test\n",
        "print(y_true[0])\n",
        "\n",
        "print(\"Test accuracy: %g\" %(accuracy_score(y_true, y_pred)))\n",
        "print(\"Precision\", precision_score(y_true, y_pred, average=\"macro\")) #one vs rest averages or global\n",
        "print(\"Recall\", recall_score(y_true, y_pred, average=\"macro\")) #macro calculates the average of the recall for each class\n",
        "print(\"f1_score\", f1_score(y_true, y_pred, average=\"macro\")) #macro is good for balanced data set, micro is good for imbalanced\n",
        "print(\"\\n Confusion matrix \")\n",
        "conf=confusion_matrix(y_true, y_pred)\n",
        "print(conf)"
      ]
    },
    {
      "cell_type": "markdown",
      "metadata": {
        "id": "28Le1iCgL4It"
      },
      "source": [
        "### Model 2"
      ]
    },
    {
      "cell_type": "code",
      "execution_count": null,
      "metadata": {
        "colab": {
          "base_uri": "https://localhost:8080/"
        },
        "id": "DksyXInPOqIl",
        "outputId": "f23a32ab-927a-42a7-8b55-808daa541f7e"
      },
      "outputs": [
        {
          "name": "stderr",
          "output_type": "stream",
          "text": [
            "/usr/local/lib/python3.11/dist-packages/keras/src/layers/convolutional/base_conv.py:107: UserWarning: Do not pass an `input_shape`/`input_dim` argument to a layer. When using Sequential models, prefer using an `Input(shape)` object as the first layer in the model instead.\n",
            "  super().__init__(activity_regularizer=activity_regularizer, **kwargs)\n"
          ]
        },
        {
          "name": "stdout",
          "output_type": "stream",
          "text": [
            "Epoch 1/40\n",
            "\u001b[1m119/120\u001b[0m \u001b[32m━━━━━━━━━━━━━━━━━━━\u001b[0m\u001b[37m━\u001b[0m \u001b[1m0s\u001b[0m 28ms/step - Precision: 0.5928 - Recall: 0.5293 - accuracy: 0.5824 - loss: 1.4599\n",
            "Epoch 1: val_loss improved from inf to 0.74754, saving model to weights2.keras\n",
            "\u001b[1m120/120\u001b[0m \u001b[32m━━━━━━━━━━━━━━━━━━━━\u001b[0m\u001b[37m\u001b[0m \u001b[1m20s\u001b[0m 50ms/step - Precision: 0.5946 - Recall: 0.5307 - accuracy: 0.5840 - loss: 1.4536 - val_Precision: 0.6037 - val_Recall: 0.9651 - val_accuracy: 0.6607 - val_loss: 0.7475\n",
            "Epoch 2/40\n",
            "\u001b[1m119/120\u001b[0m \u001b[32m━━━━━━━━━━━━━━━━━━━\u001b[0m\u001b[37m━\u001b[0m \u001b[1m0s\u001b[0m 27ms/step - Precision: 0.8002 - Recall: 0.7645 - accuracy: 0.7868 - loss: 0.5607\n",
            "Epoch 2: val_loss improved from 0.74754 to 0.47091, saving model to weights2.keras\n",
            "\u001b[1m120/120\u001b[0m \u001b[32m━━━━━━━━━━━━━━━━━━━━\u001b[0m\u001b[37m\u001b[0m \u001b[1m4s\u001b[0m 31ms/step - Precision: 0.8003 - Recall: 0.7644 - accuracy: 0.7868 - loss: 0.5602 - val_Precision: 0.7792 - val_Recall: 0.8584 - val_accuracy: 0.8047 - val_loss: 0.4709\n",
            "Epoch 3/40\n",
            "\u001b[1m119/120\u001b[0m \u001b[32m━━━━━━━━━━━━━━━━━━━\u001b[0m\u001b[37m━\u001b[0m \u001b[1m0s\u001b[0m 27ms/step - Precision: 0.8035 - Recall: 0.7658 - accuracy: 0.7910 - loss: 0.4937\n",
            "Epoch 3: val_loss did not improve from 0.47091\n",
            "\u001b[1m120/120\u001b[0m \u001b[32m━━━━━━━━━━━━━━━━━━━━\u001b[0m\u001b[37m\u001b[0m \u001b[1m5s\u001b[0m 30ms/step - Precision: 0.8035 - Recall: 0.7659 - accuracy: 0.7910 - loss: 0.4936 - val_Precision: 0.7565 - val_Recall: 0.8897 - val_accuracy: 0.7987 - val_loss: 0.4742\n",
            "Epoch 4/40\n",
            "\u001b[1m119/120\u001b[0m \u001b[32m━━━━━━━━━━━━━━━━━━━\u001b[0m\u001b[37m━\u001b[0m \u001b[1m0s\u001b[0m 29ms/step - Precision: 0.7955 - Recall: 0.7870 - accuracy: 0.7938 - loss: 0.4702\n",
            "Epoch 4: val_loss did not improve from 0.47091\n",
            "\u001b[1m120/120\u001b[0m \u001b[32m━━━━━━━━━━━━━━━━━━━━\u001b[0m\u001b[37m\u001b[0m \u001b[1m5s\u001b[0m 31ms/step - Precision: 0.7955 - Recall: 0.7871 - accuracy: 0.7939 - loss: 0.4702 - val_Precision: 0.7034 - val_Recall: 0.9246 - val_accuracy: 0.7638 - val_loss: 0.4942\n",
            "Epoch 5/40\n",
            "\u001b[1m119/120\u001b[0m \u001b[32m━━━━━━━━━━━━━━━━━━━\u001b[0m\u001b[37m━\u001b[0m \u001b[1m0s\u001b[0m 27ms/step - Precision: 0.8002 - Recall: 0.8113 - accuracy: 0.8028 - loss: 0.4542\n",
            "Epoch 5: val_loss improved from 0.47091 to 0.43277, saving model to weights2.keras\n",
            "\u001b[1m120/120\u001b[0m \u001b[32m━━━━━━━━━━━━━━━━━━━━\u001b[0m\u001b[37m\u001b[0m \u001b[1m4s\u001b[0m 31ms/step - Precision: 0.8001 - Recall: 0.8111 - accuracy: 0.8028 - loss: 0.4543 - val_Precision: 0.7658 - val_Recall: 0.8825 - val_accuracy: 0.8034 - val_loss: 0.4328\n",
            "Epoch 6/40\n",
            "\u001b[1m119/120\u001b[0m \u001b[32m━━━━━━━━━━━━━━━━━━━\u001b[0m\u001b[37m━\u001b[0m \u001b[1m0s\u001b[0m 27ms/step - Precision: 0.8134 - Recall: 0.8132 - accuracy: 0.8129 - loss: 0.4349\n",
            "Epoch 6: val_loss improved from 0.43277 to 0.41175, saving model to weights2.keras\n",
            "\u001b[1m120/120\u001b[0m \u001b[32m━━━━━━━━━━━━━━━━━━━━\u001b[0m\u001b[37m\u001b[0m \u001b[1m5s\u001b[0m 30ms/step - Precision: 0.8133 - Recall: 0.8131 - accuracy: 0.8128 - loss: 0.4350 - val_Precision: 0.7833 - val_Recall: 0.8717 - val_accuracy: 0.8125 - val_loss: 0.4117\n",
            "Epoch 7/40\n",
            "\u001b[1m119/120\u001b[0m \u001b[32m━━━━━━━━━━━━━━━━━━━\u001b[0m\u001b[37m━\u001b[0m \u001b[1m0s\u001b[0m 29ms/step - Precision: 0.8121 - Recall: 0.8137 - accuracy: 0.8117 - loss: 0.4384\n",
            "Epoch 7: val_loss did not improve from 0.41175\n",
            "\u001b[1m120/120\u001b[0m \u001b[32m━━━━━━━━━━━━━━━━━━━━\u001b[0m\u001b[37m\u001b[0m \u001b[1m4s\u001b[0m 32ms/step - Precision: 0.8120 - Recall: 0.8136 - accuracy: 0.8117 - loss: 0.4385 - val_Precision: 0.7773 - val_Recall: 0.8774 - val_accuracy: 0.8102 - val_loss: 0.4121\n",
            "Epoch 8/40\n",
            "\u001b[1m119/120\u001b[0m \u001b[32m━━━━━━━━━━━━━━━━━━━\u001b[0m\u001b[37m━\u001b[0m \u001b[1m0s\u001b[0m 27ms/step - Precision: 0.8107 - Recall: 0.8198 - accuracy: 0.8169 - loss: 0.4241\n",
            "Epoch 8: val_loss did not improve from 0.41175\n",
            "\u001b[1m120/120\u001b[0m \u001b[32m━━━━━━━━━━━━━━━━━━━━\u001b[0m\u001b[37m\u001b[0m \u001b[1m5s\u001b[0m 30ms/step - Precision: 0.8106 - Recall: 0.8198 - accuracy: 0.8168 - loss: 0.4243 - val_Precision: 0.8127 - val_Recall: 0.8348 - val_accuracy: 0.8185 - val_loss: 0.4288\n",
            "Epoch 9/40\n",
            "\u001b[1m119/120\u001b[0m \u001b[32m━━━━━━━━━━━━━━━━━━━\u001b[0m\u001b[37m━\u001b[0m \u001b[1m0s\u001b[0m 27ms/step - Precision: 0.8206 - Recall: 0.7999 - accuracy: 0.8128 - loss: 0.4333\n",
            "Epoch 9: val_loss improved from 0.41175 to 0.41115, saving model to weights2.keras\n",
            "\u001b[1m120/120\u001b[0m \u001b[32m━━━━━━━━━━━━━━━━━━━━\u001b[0m\u001b[37m\u001b[0m \u001b[1m5s\u001b[0m 31ms/step - Precision: 0.8204 - Recall: 0.8000 - accuracy: 0.8127 - loss: 0.4334 - val_Precision: 0.8288 - val_Recall: 0.8271 - val_accuracy: 0.8255 - val_loss: 0.4112\n",
            "Epoch 10/40\n",
            "\u001b[1m119/120\u001b[0m \u001b[32m━━━━━━━━━━━━━━━━━━━\u001b[0m\u001b[37m━\u001b[0m \u001b[1m0s\u001b[0m 28ms/step - Precision: 0.8198 - Recall: 0.8018 - accuracy: 0.8125 - loss: 0.4375\n",
            "Epoch 10: val_loss did not improve from 0.41115\n",
            "\u001b[1m120/120\u001b[0m \u001b[32m━━━━━━━━━━━━━━━━━━━━\u001b[0m\u001b[37m\u001b[0m \u001b[1m5s\u001b[0m 30ms/step - Precision: 0.8198 - Recall: 0.8020 - accuracy: 0.8126 - loss: 0.4373 - val_Precision: 0.7249 - val_Recall: 0.9071 - val_accuracy: 0.7781 - val_loss: 0.4631\n",
            "Epoch 11/40\n",
            "\u001b[1m119/120\u001b[0m \u001b[32m━━━━━━━━━━━━━━━━━━━\u001b[0m\u001b[37m━\u001b[0m \u001b[1m0s\u001b[0m 27ms/step - Precision: 0.7997 - Recall: 0.8025 - accuracy: 0.8034 - loss: 0.4444\n",
            "Epoch 11: val_loss did not improve from 0.41115\n",
            "\u001b[1m120/120\u001b[0m \u001b[32m━━━━━━━━━━━━━━━━━━━━\u001b[0m\u001b[37m\u001b[0m \u001b[1m4s\u001b[0m 30ms/step - Precision: 0.7999 - Recall: 0.8025 - accuracy: 0.8035 - loss: 0.4443 - val_Precision: 0.7301 - val_Recall: 0.9395 - val_accuracy: 0.7930 - val_loss: 0.4561\n",
            "Epoch 12/40\n",
            "\u001b[1m119/120\u001b[0m \u001b[32m━━━━━━━━━━━━━━━━━━━\u001b[0m\u001b[37m━\u001b[0m \u001b[1m0s\u001b[0m 27ms/step - Precision: 0.8172 - Recall: 0.8128 - accuracy: 0.8165 - loss: 0.4176\n",
            "Epoch 12: val_loss improved from 0.41115 to 0.40743, saving model to weights2.keras\n",
            "\u001b[1m120/120\u001b[0m \u001b[32m━━━━━━━━━━━━━━━━━━━━\u001b[0m\u001b[37m\u001b[0m \u001b[1m4s\u001b[0m 31ms/step - Precision: 0.8173 - Recall: 0.8128 - accuracy: 0.8165 - loss: 0.4176 - val_Precision: 0.7794 - val_Recall: 0.8866 - val_accuracy: 0.8151 - val_loss: 0.4074\n",
            "Epoch 13/40\n",
            "\u001b[1m119/120\u001b[0m \u001b[32m━━━━━━━━━━━━━━━━━━━\u001b[0m\u001b[37m━\u001b[0m \u001b[1m0s\u001b[0m 28ms/step - Precision: 0.8157 - Recall: 0.8384 - accuracy: 0.8240 - loss: 0.4074\n",
            "Epoch 13: val_loss improved from 0.40743 to 0.39914, saving model to weights2.keras\n",
            "\u001b[1m120/120\u001b[0m \u001b[32m━━━━━━━━━━━━━━━━━━━━\u001b[0m\u001b[37m\u001b[0m \u001b[1m5s\u001b[0m 32ms/step - Precision: 0.8158 - Recall: 0.8383 - accuracy: 0.8240 - loss: 0.4074 - val_Precision: 0.8525 - val_Recall: 0.7860 - val_accuracy: 0.8224 - val_loss: 0.3991\n",
            "Epoch 14/40\n",
            "\u001b[1m119/120\u001b[0m \u001b[32m━━━━━━━━━━━━━━━━━━━\u001b[0m\u001b[37m━\u001b[0m \u001b[1m0s\u001b[0m 27ms/step - Precision: 0.8189 - Recall: 0.8211 - accuracy: 0.8168 - loss: 0.4171\n",
            "Epoch 14: val_loss did not improve from 0.39914\n",
            "\u001b[1m120/120\u001b[0m \u001b[32m━━━━━━━━━━━━━━━━━━━━\u001b[0m\u001b[37m\u001b[0m \u001b[1m4s\u001b[0m 30ms/step - Precision: 0.8188 - Recall: 0.8212 - accuracy: 0.8168 - loss: 0.4171 - val_Precision: 0.7714 - val_Recall: 0.9071 - val_accuracy: 0.8164 - val_loss: 0.4214\n",
            "Epoch 15/40\n",
            "\u001b[1m119/120\u001b[0m \u001b[32m━━━━━━━━━━━━━━━━━━━\u001b[0m\u001b[37m━\u001b[0m \u001b[1m0s\u001b[0m 28ms/step - Precision: 0.8245 - Recall: 0.8276 - accuracy: 0.8262 - loss: 0.4079\n",
            "Epoch 15: val_loss did not improve from 0.39914\n",
            "\u001b[1m120/120\u001b[0m \u001b[32m━━━━━━━━━━━━━━━━━━━━\u001b[0m\u001b[37m\u001b[0m \u001b[1m6s\u001b[0m 34ms/step - Precision: 0.8244 - Recall: 0.8277 - accuracy: 0.8262 - loss: 0.4078 - val_Precision: 0.8263 - val_Recall: 0.8322 - val_accuracy: 0.8260 - val_loss: 0.4001\n",
            "Epoch 16/40\n",
            "\u001b[1m119/120\u001b[0m \u001b[32m━━━━━━━━━━━━━━━━━━━\u001b[0m\u001b[37m━\u001b[0m \u001b[1m0s\u001b[0m 28ms/step - Precision: 0.8209 - Recall: 0.8219 - accuracy: 0.8230 - loss: 0.4134\n",
            "Epoch 16: val_loss improved from 0.39914 to 0.39332, saving model to weights2.keras\n",
            "\u001b[1m120/120\u001b[0m \u001b[32m━━━━━━━━━━━━━━━━━━━━\u001b[0m\u001b[37m\u001b[0m \u001b[1m4s\u001b[0m 32ms/step - Precision: 0.8210 - Recall: 0.8220 - accuracy: 0.8231 - loss: 0.4133 - val_Precision: 0.7916 - val_Recall: 0.8887 - val_accuracy: 0.8247 - val_loss: 0.3933\n",
            "Epoch 17/40\n",
            "\u001b[1m119/120\u001b[0m \u001b[32m━━━━━━━━━━━━━━━━━━━\u001b[0m\u001b[37m━\u001b[0m \u001b[1m0s\u001b[0m 28ms/step - Precision: 0.8211 - Recall: 0.8343 - accuracy: 0.8281 - loss: 0.4018\n",
            "Epoch 17: val_loss improved from 0.39332 to 0.38609, saving model to weights2.keras\n",
            "\u001b[1m120/120\u001b[0m \u001b[32m━━━━━━━━━━━━━━━━━━━━\u001b[0m\u001b[37m\u001b[0m \u001b[1m4s\u001b[0m 31ms/step - Precision: 0.8212 - Recall: 0.8344 - accuracy: 0.8281 - loss: 0.4016 - val_Precision: 0.7856 - val_Recall: 0.9153 - val_accuracy: 0.8302 - val_loss: 0.3861\n",
            "Epoch 18/40\n",
            "\u001b[1m119/120\u001b[0m \u001b[32m━━━━━━━━━━━━━━━━━━━\u001b[0m\u001b[37m━\u001b[0m \u001b[1m0s\u001b[0m 28ms/step - Precision: 0.8278 - Recall: 0.8378 - accuracy: 0.8313 - loss: 0.3993\n",
            "Epoch 18: val_loss improved from 0.38609 to 0.38327, saving model to weights2.keras\n",
            "\u001b[1m120/120\u001b[0m \u001b[32m━━━━━━━━━━━━━━━━━━━━\u001b[0m\u001b[37m\u001b[0m \u001b[1m5s\u001b[0m 32ms/step - Precision: 0.8278 - Recall: 0.8378 - accuracy: 0.8313 - loss: 0.3992 - val_Precision: 0.8008 - val_Recall: 0.9035 - val_accuracy: 0.8370 - val_loss: 0.3833\n",
            "Epoch 19/40\n",
            "\u001b[1m119/120\u001b[0m \u001b[32m━━━━━━━━━━━━━━━━━━━\u001b[0m\u001b[37m━\u001b[0m \u001b[1m0s\u001b[0m 28ms/step - Precision: 0.8309 - Recall: 0.8439 - accuracy: 0.8376 - loss: 0.3837\n",
            "Epoch 19: val_loss did not improve from 0.38327\n",
            "\u001b[1m120/120\u001b[0m \u001b[32m━━━━━━━━━━━━━━━━━━━━\u001b[0m\u001b[37m\u001b[0m \u001b[1m5s\u001b[0m 30ms/step - Precision: 0.8308 - Recall: 0.8438 - accuracy: 0.8375 - loss: 0.3838 - val_Precision: 0.7069 - val_Recall: 0.9477 - val_accuracy: 0.7740 - val_loss: 0.4638\n",
            "Epoch 20/40\n",
            "\u001b[1m119/120\u001b[0m \u001b[32m━━━━━━━━━━━━━━━━━━━\u001b[0m\u001b[37m━\u001b[0m \u001b[1m0s\u001b[0m 28ms/step - Precision: 0.8314 - Recall: 0.8361 - accuracy: 0.8334 - loss: 0.3956\n",
            "Epoch 20: val_loss did not improve from 0.38327\n",
            "\u001b[1m120/120\u001b[0m \u001b[32m━━━━━━━━━━━━━━━━━━━━\u001b[0m\u001b[37m\u001b[0m \u001b[1m4s\u001b[0m 30ms/step - Precision: 0.8315 - Recall: 0.8361 - accuracy: 0.8334 - loss: 0.3955 - val_Precision: 0.7943 - val_Recall: 0.8974 - val_accuracy: 0.8299 - val_loss: 0.4021\n",
            "Epoch 21/40\n",
            "\u001b[1m119/120\u001b[0m \u001b[32m━━━━━━━━━━━━━━━━━━━\u001b[0m\u001b[37m━\u001b[0m \u001b[1m0s\u001b[0m 28ms/step - Precision: 0.8436 - Recall: 0.8489 - accuracy: 0.8433 - loss: 0.3781\n",
            "Epoch 21: val_loss improved from 0.38327 to 0.37901, saving model to weights2.keras\n",
            "\u001b[1m120/120\u001b[0m \u001b[32m━━━━━━━━━━━━━━━━━━━━\u001b[0m\u001b[37m\u001b[0m \u001b[1m4s\u001b[0m 35ms/step - Precision: 0.8435 - Recall: 0.8487 - accuracy: 0.8432 - loss: 0.3781 - val_Precision: 0.8086 - val_Recall: 0.8907 - val_accuracy: 0.8375 - val_loss: 0.3790\n",
            "Epoch 22/40\n",
            "\u001b[1m119/120\u001b[0m \u001b[32m━━━━━━━━━━━━━━━━━━━\u001b[0m\u001b[37m━\u001b[0m \u001b[1m0s\u001b[0m 28ms/step - Precision: 0.8430 - Recall: 0.8474 - accuracy: 0.8452 - loss: 0.3679\n",
            "Epoch 22: val_loss did not improve from 0.37901\n",
            "\u001b[1m120/120\u001b[0m \u001b[32m━━━━━━━━━━━━━━━━━━━━\u001b[0m\u001b[37m\u001b[0m \u001b[1m5s\u001b[0m 31ms/step - Precision: 0.8429 - Recall: 0.8473 - accuracy: 0.8451 - loss: 0.3681 - val_Precision: 0.7739 - val_Recall: 0.9236 - val_accuracy: 0.8242 - val_loss: 0.4028\n",
            "Epoch 23/40\n",
            "\u001b[1m119/120\u001b[0m \u001b[32m━━━━━━━━━━━━━━━━━━━\u001b[0m\u001b[37m━\u001b[0m \u001b[1m0s\u001b[0m 28ms/step - Precision: 0.8430 - Recall: 0.8550 - accuracy: 0.8488 - loss: 0.3714\n",
            "Epoch 23: val_loss did not improve from 0.37901\n",
            "\u001b[1m120/120\u001b[0m \u001b[32m━━━━━━━━━━━━━━━━━━━━\u001b[0m\u001b[37m\u001b[0m \u001b[1m4s\u001b[0m 31ms/step - Precision: 0.8429 - Recall: 0.8549 - accuracy: 0.8487 - loss: 0.3716 - val_Precision: 0.8202 - val_Recall: 0.8917 - val_accuracy: 0.8458 - val_loss: 0.3843\n",
            "Epoch 24/40\n",
            "\u001b[1m119/120\u001b[0m \u001b[32m━━━━━━━━━━━━━━━━━━━\u001b[0m\u001b[37m━\u001b[0m \u001b[1m0s\u001b[0m 28ms/step - Precision: 0.8464 - Recall: 0.8392 - accuracy: 0.8451 - loss: 0.3731\n",
            "Epoch 24: val_loss did not improve from 0.37901\n",
            "\u001b[1m120/120\u001b[0m \u001b[32m━━━━━━━━━━━━━━━━━━━━\u001b[0m\u001b[37m\u001b[0m \u001b[1m4s\u001b[0m 31ms/step - Precision: 0.8463 - Recall: 0.8392 - accuracy: 0.8451 - loss: 0.3731 - val_Precision: 0.7913 - val_Recall: 0.9046 - val_accuracy: 0.8305 - val_loss: 0.3882\n",
            "Epoch 25/40\n",
            "\u001b[1m119/120\u001b[0m \u001b[32m━━━━━━━━━━━━━━━━━━━\u001b[0m\u001b[37m━\u001b[0m \u001b[1m0s\u001b[0m 29ms/step - Precision: 0.8443 - Recall: 0.8531 - accuracy: 0.8489 - loss: 0.3681\n",
            "Epoch 25: val_loss did not improve from 0.37901\n",
            "\u001b[1m120/120\u001b[0m \u001b[32m━━━━━━━━━━━━━━━━━━━━\u001b[0m\u001b[37m\u001b[0m \u001b[1m4s\u001b[0m 32ms/step - Precision: 0.8444 - Recall: 0.8530 - accuracy: 0.8489 - loss: 0.3681 - val_Precision: 0.7649 - val_Recall: 0.9312 - val_accuracy: 0.8198 - val_loss: 0.4066\n",
            "Epoch 26/40\n",
            "\u001b[1m119/120\u001b[0m \u001b[32m━━━━━━━━━━━━━━━━━━━\u001b[0m\u001b[37m━\u001b[0m \u001b[1m0s\u001b[0m 28ms/step - Precision: 0.8382 - Recall: 0.8566 - accuracy: 0.8462 - loss: 0.3696\n",
            "Epoch 26: val_loss improved from 0.37901 to 0.36055, saving model to weights2.keras\n",
            "\u001b[1m120/120\u001b[0m \u001b[32m━━━━━━━━━━━━━━━━━━━━\u001b[0m\u001b[37m\u001b[0m \u001b[1m4s\u001b[0m 31ms/step - Precision: 0.8382 - Recall: 0.8566 - accuracy: 0.8462 - loss: 0.3696 - val_Precision: 0.8366 - val_Recall: 0.8748 - val_accuracy: 0.8497 - val_loss: 0.3606\n",
            "Epoch 27/40\n",
            "\u001b[1m119/120\u001b[0m \u001b[32m━━━━━━━━━━━━━━━━━━━\u001b[0m\u001b[37m━\u001b[0m \u001b[1m0s\u001b[0m 28ms/step - Precision: 0.8560 - Recall: 0.8495 - accuracy: 0.8524 - loss: 0.3673\n",
            "Epoch 27: val_loss improved from 0.36055 to 0.35932, saving model to weights2.keras\n",
            "\u001b[1m120/120\u001b[0m \u001b[32m━━━━━━━━━━━━━━━━━━━━\u001b[0m\u001b[37m\u001b[0m \u001b[1m4s\u001b[0m 31ms/step - Precision: 0.8559 - Recall: 0.8494 - accuracy: 0.8523 - loss: 0.3673 - val_Precision: 0.8454 - val_Recall: 0.8558 - val_accuracy: 0.8474 - val_loss: 0.3593\n",
            "Epoch 28/40\n",
            "\u001b[1m119/120\u001b[0m \u001b[32m━━━━━━━━━━━━━━━━━━━\u001b[0m\u001b[37m━\u001b[0m \u001b[1m0s\u001b[0m 28ms/step - Precision: 0.8614 - Recall: 0.8507 - accuracy: 0.8564 - loss: 0.3566\n",
            "Epoch 28: val_loss did not improve from 0.35932\n",
            "\u001b[1m120/120\u001b[0m \u001b[32m━━━━━━━━━━━━━━━━━━━━\u001b[0m\u001b[37m\u001b[0m \u001b[1m4s\u001b[0m 34ms/step - Precision: 0.8613 - Recall: 0.8507 - accuracy: 0.8563 - loss: 0.3566 - val_Precision: 0.7837 - val_Recall: 0.9051 - val_accuracy: 0.8250 - val_loss: 0.3969\n",
            "Epoch 29/40\n",
            "\u001b[1m119/120\u001b[0m \u001b[32m━━━━━━━━━━━━━━━━━━━\u001b[0m\u001b[37m━\u001b[0m \u001b[1m0s\u001b[0m 28ms/step - Precision: 0.8492 - Recall: 0.8594 - accuracy: 0.8539 - loss: 0.3534\n",
            "Epoch 29: val_loss improved from 0.35932 to 0.35879, saving model to weights2.keras\n",
            "\u001b[1m120/120\u001b[0m \u001b[32m━━━━━━━━━━━━━━━━━━━━\u001b[0m\u001b[37m\u001b[0m \u001b[1m5s\u001b[0m 31ms/step - Precision: 0.8492 - Recall: 0.8593 - accuracy: 0.8539 - loss: 0.3535 - val_Precision: 0.8370 - val_Recall: 0.8692 - val_accuracy: 0.8477 - val_loss: 0.3588\n",
            "Epoch 30/40\n",
            "\u001b[1m119/120\u001b[0m \u001b[32m━━━━━━━━━━━━━━━━━━━\u001b[0m\u001b[37m━\u001b[0m \u001b[1m0s\u001b[0m 27ms/step - Precision: 0.8463 - Recall: 0.8602 - accuracy: 0.8533 - loss: 0.3578\n",
            "Epoch 30: val_loss did not improve from 0.35879\n",
            "\u001b[1m120/120\u001b[0m \u001b[32m━━━━━━━━━━━━━━━━━━━━\u001b[0m\u001b[37m\u001b[0m \u001b[1m4s\u001b[0m 30ms/step - Precision: 0.8463 - Recall: 0.8601 - accuracy: 0.8532 - loss: 0.3579 - val_Precision: 0.8568 - val_Recall: 0.8409 - val_accuracy: 0.8479 - val_loss: 0.3609\n",
            "Epoch 31/40\n",
            "\u001b[1m119/120\u001b[0m \u001b[32m━━━━━━━━━━━━━━━━━━━\u001b[0m\u001b[37m━\u001b[0m \u001b[1m0s\u001b[0m 28ms/step - Precision: 0.8463 - Recall: 0.8390 - accuracy: 0.8458 - loss: 0.3652\n",
            "Epoch 31: val_loss did not improve from 0.35879\n",
            "\u001b[1m120/120\u001b[0m \u001b[32m━━━━━━━━━━━━━━━━━━━━\u001b[0m\u001b[37m\u001b[0m \u001b[1m4s\u001b[0m 34ms/step - Precision: 0.8464 - Recall: 0.8393 - accuracy: 0.8459 - loss: 0.3650 - val_Precision: 0.8754 - val_Recall: 0.7927 - val_accuracy: 0.8375 - val_loss: 0.3762\n",
            "Epoch 32/40\n",
            "\u001b[1m119/120\u001b[0m \u001b[32m━━━━━━━━━━━━━━━━━━━\u001b[0m\u001b[37m━\u001b[0m \u001b[1m0s\u001b[0m 27ms/step - Precision: 0.8493 - Recall: 0.8575 - accuracy: 0.8529 - loss: 0.3535\n",
            "Epoch 32: val_loss did not improve from 0.35879\n",
            "\u001b[1m120/120\u001b[0m \u001b[32m━━━━━━━━━━━━━━━━━━━━\u001b[0m\u001b[37m\u001b[0m \u001b[1m5s\u001b[0m 30ms/step - Precision: 0.8492 - Recall: 0.8575 - accuracy: 0.8529 - loss: 0.3535 - val_Precision: 0.7607 - val_Recall: 0.9364 - val_accuracy: 0.8182 - val_loss: 0.4136\n",
            "Epoch 33/40\n",
            "\u001b[1m119/120\u001b[0m \u001b[32m━━━━━━━━━━━━━━━━━━━\u001b[0m\u001b[37m━\u001b[0m \u001b[1m0s\u001b[0m 28ms/step - Precision: 0.8509 - Recall: 0.8693 - accuracy: 0.8612 - loss: 0.3441\n",
            "Epoch 33: val_loss did not improve from 0.35879\n",
            "\u001b[1m120/120\u001b[0m \u001b[32m━━━━━━━━━━━━━━━━━━━━\u001b[0m\u001b[37m\u001b[0m \u001b[1m4s\u001b[0m 31ms/step - Precision: 0.8508 - Recall: 0.8692 - accuracy: 0.8611 - loss: 0.3442 - val_Precision: 0.8612 - val_Recall: 0.8086 - val_accuracy: 0.8367 - val_loss: 0.3800\n",
            "Epoch 34/40\n",
            "\u001b[1m119/120\u001b[0m \u001b[32m━━━━━━━━━━━━━━━━━━━\u001b[0m\u001b[37m━\u001b[0m \u001b[1m0s\u001b[0m 28ms/step - Precision: 0.8525 - Recall: 0.8530 - accuracy: 0.8550 - loss: 0.3521\n",
            "Epoch 34: val_loss did not improve from 0.35879\n",
            "\u001b[1m120/120\u001b[0m \u001b[32m━━━━━━━━━━━━━━━━━━━━\u001b[0m\u001b[37m\u001b[0m \u001b[1m4s\u001b[0m 31ms/step - Precision: 0.8525 - Recall: 0.8531 - accuracy: 0.8551 - loss: 0.3521 - val_Precision: 0.8293 - val_Recall: 0.8774 - val_accuracy: 0.8461 - val_loss: 0.3665\n",
            "Epoch 35/40\n",
            "\u001b[1m119/120\u001b[0m \u001b[32m━━━━━━━━━━━━━━━━━━━\u001b[0m\u001b[37m━\u001b[0m \u001b[1m0s\u001b[0m 28ms/step - Precision: 0.8537 - Recall: 0.8673 - accuracy: 0.8601 - loss: 0.3425\n",
            "Epoch 35: val_loss did not improve from 0.35879\n",
            "\u001b[1m120/120\u001b[0m \u001b[32m━━━━━━━━━━━━━━━━━━━━\u001b[0m\u001b[37m\u001b[0m \u001b[1m5s\u001b[0m 30ms/step - Precision: 0.8537 - Recall: 0.8673 - accuracy: 0.8601 - loss: 0.3426 - val_Precision: 0.8737 - val_Recall: 0.7630 - val_accuracy: 0.8237 - val_loss: 0.3830\n",
            "Epoch 36/40\n",
            "\u001b[1m119/120\u001b[0m \u001b[32m━━━━━━━━━━━━━━━━━━━\u001b[0m\u001b[37m━\u001b[0m \u001b[1m0s\u001b[0m 28ms/step - Precision: 0.8624 - Recall: 0.8404 - accuracy: 0.8542 - loss: 0.3476\n",
            "Epoch 36: val_loss did not improve from 0.35879\n",
            "\u001b[1m120/120\u001b[0m \u001b[32m━━━━━━━━━━━━━━━━━━━━\u001b[0m\u001b[37m\u001b[0m \u001b[1m4s\u001b[0m 30ms/step - Precision: 0.8623 - Recall: 0.8407 - accuracy: 0.8543 - loss: 0.3475 - val_Precision: 0.7921 - val_Recall: 0.9112 - val_accuracy: 0.8336 - val_loss: 0.3963\n",
            "Epoch 37/40\n",
            "\u001b[1m119/120\u001b[0m \u001b[32m━━━━━━━━━━━━━━━━━━━\u001b[0m\u001b[37m━\u001b[0m \u001b[1m0s\u001b[0m 28ms/step - Precision: 0.8598 - Recall: 0.8598 - accuracy: 0.8613 - loss: 0.3455\n",
            "Epoch 37: val_loss did not improve from 0.35879\n",
            "\u001b[1m120/120\u001b[0m \u001b[32m━━━━━━━━━━━━━━━━━━━━\u001b[0m\u001b[37m\u001b[0m \u001b[1m4s\u001b[0m 31ms/step - Precision: 0.8598 - Recall: 0.8598 - accuracy: 0.8613 - loss: 0.3456 - val_Precision: 0.8266 - val_Recall: 0.8779 - val_accuracy: 0.8445 - val_loss: 0.3714\n",
            "Epoch 38/40\n",
            "\u001b[1m119/120\u001b[0m \u001b[32m━━━━━━━━━━━━━━━━━━━\u001b[0m\u001b[37m━\u001b[0m \u001b[1m0s\u001b[0m 27ms/step - Precision: 0.8631 - Recall: 0.8749 - accuracy: 0.8676 - loss: 0.3333\n",
            "Epoch 38: val_loss did not improve from 0.35879\n",
            "\u001b[1m120/120\u001b[0m \u001b[32m━━━━━━━━━━━━━━━━━━━━\u001b[0m\u001b[37m\u001b[0m \u001b[1m5s\u001b[0m 30ms/step - Precision: 0.8630 - Recall: 0.8747 - accuracy: 0.8675 - loss: 0.3335 - val_Precision: 0.8159 - val_Recall: 0.8825 - val_accuracy: 0.8393 - val_loss: 0.3738\n",
            "Epoch 39/40\n",
            "\u001b[1m119/120\u001b[0m \u001b[32m━━━━━━━━━━━━━━━━━━━\u001b[0m\u001b[37m━\u001b[0m \u001b[1m0s\u001b[0m 27ms/step - Precision: 0.8510 - Recall: 0.8833 - accuracy: 0.8660 - loss: 0.3288\n",
            "Epoch 39: val_loss did not improve from 0.35879\n",
            "\u001b[1m120/120\u001b[0m \u001b[32m━━━━━━━━━━━━━━━━━━━━\u001b[0m\u001b[37m\u001b[0m \u001b[1m4s\u001b[0m 30ms/step - Precision: 0.8510 - Recall: 0.8831 - accuracy: 0.8659 - loss: 0.3289 - val_Precision: 0.7883 - val_Recall: 0.9210 - val_accuracy: 0.8344 - val_loss: 0.3775\n",
            "Epoch 40/40\n",
            "\u001b[1m119/120\u001b[0m \u001b[32m━━━━━━━━━━━━━━━━━━━\u001b[0m\u001b[37m━\u001b[0m \u001b[1m0s\u001b[0m 28ms/step - Precision: 0.8559 - Recall: 0.8579 - accuracy: 0.8584 - loss: 0.3323\n",
            "Epoch 40: val_loss improved from 0.35879 to 0.35830, saving model to weights2.keras\n",
            "\u001b[1m120/120\u001b[0m \u001b[32m━━━━━━━━━━━━━━━━━━━━\u001b[0m\u001b[37m\u001b[0m \u001b[1m5s\u001b[0m 33ms/step - Precision: 0.8560 - Recall: 0.8580 - accuracy: 0.8585 - loss: 0.3323 - val_Precision: 0.8212 - val_Recall: 0.8953 - val_accuracy: 0.8479 - val_loss: 0.3583\n",
            "\u001b[1m150/150\u001b[0m \u001b[32m━━━━━━━━━━━━━━━━━━━━\u001b[0m\u001b[37m\u001b[0m \u001b[1m2s\u001b[0m 4ms/step - Precision: 0.8089 - Recall: 0.8880 - accuracy: 0.8405 - loss: 0.3785\n",
            "Loss on test set: 0.36748233437538147 Accuracy on test set: 0.8479166626930237\n",
            "\u001b[1m150/150\u001b[0m \u001b[32m━━━━━━━━━━━━━━━━━━━━\u001b[0m\u001b[37m\u001b[0m \u001b[1m1s\u001b[0m 3ms/step\n",
            "Test accuracy: 0.847917\n",
            "Precision: 0.8505620189804464\n",
            "Recall: 0.8477535882015008\n",
            "f1_score: 0.8475847401006638\n",
            "\n",
            "Confusion matrix:\n",
            "[[1923  468]\n",
            " [ 262 2147]]\n"
          ]
        }
      ],
      "source": [
        "from keras.models import Sequential\n",
        "from keras.layers import Conv2D, MaxPooling2D, GlobalAveragePooling2D, Dense, Dropout\n",
        "from keras.regularizers import l2\n",
        "from keras.callbacks import EarlyStopping, ModelCheckpoint\n",
        "\n",
        "model2 = Sequential()\n",
        "\n",
        "# First Conv Block\n",
        "model2.add(Conv2D(32, (3, 3), activation='relu', input_shape=(50, 50, 3)))\n",
        "model2.add(Dropout(0.2))\n",
        "\n",
        "# Second Conv Block\n",
        "model2.add(Conv2D(64, (3, 3), activation='relu', padding='same'))\n",
        "model2.add(MaxPooling2D(pool_size=(2, 2)))\n",
        "model2.add(Dropout(0.2))\n",
        "\n",
        "# Third Conv Block\n",
        "model2.add(Conv2D(128, (3, 3), activation='relu', padding='same'))\n",
        "model2.add(Dropout(0.2))\n",
        "\n",
        "# Fourth --> no max Pooling as to not lose too much info\n",
        "model2.add(Conv2D(128, (3, 3), activation='relu', padding='same'))\n",
        "model2.add(Dropout(0.2))\n",
        "\n",
        "# Fifth\n",
        "model2.add(Conv2D(128, (3, 3), activation='relu', padding='same'))\n",
        "model2.add(MaxPooling2D(pool_size=(2, 2)))\n",
        "model2.add(Dropout(0.2))\n",
        "\n",
        "#Sixth -- no max pooling\n",
        "model2.add(Conv2D(128, (3, 3), activation='relu', padding='same'))\n",
        "model2.add(Dropout(0.2))\n",
        "\n",
        "# Seventh\n",
        "model2.add(Conv2D(128, (3, 3), activation='relu', padding='same'))\n",
        "model2.add(Dropout(0.2))\n",
        "\n",
        "#Eighth\n",
        "model2.add(Conv2D(128, (3, 3), activation='relu', padding='same'))\n",
        "model2.add(MaxPooling2D(pool_size=(2, 2)))\n",
        "model2.add(Dropout(0.2))\n",
        "\n",
        "# Global Average Pooling + Fully Connected\n",
        "model2.add(GlobalAveragePooling2D())\n",
        "model2.add(Dense(128, activation='relu', kernel_regularizer=l2(0.01)))\n",
        "model2.add(Dropout(0.5))\n",
        "model2.add(Dense(1, activation='sigmoid'))\n",
        "\n",
        "# Compile the model\n",
        "model2.compile(optimizer='adam', loss='binary_crossentropy', metrics=['accuracy', 'Precision', 'Recall'])\n",
        "\n",
        "# Callbacks\n",
        "early_stopping = EarlyStopping(patience=15, verbose=1)\n",
        "checkpointer = ModelCheckpoint(filepath='weights2.keras', save_best_only=True, verbose=1)\n",
        "\n",
        "# Fit the model\n",
        "network_history = model2.fit(\n",
        "    X_train, y_train,\n",
        "    batch_size=128, epochs=40, verbose=1, validation_split=0.2,\n",
        "    callbacks=[checkpointer, early_stopping]\n",
        ")\n",
        "\n",
        "# Load the best model and evaluate\n",
        "from keras.models import load_model\n",
        "model2 = load_model(\"weights2.keras\")\n",
        "test_err = model2.evaluate(X_test, y_test)\n",
        "print(\"Loss on test set:\", test_err[0], \"Accuracy on test set:\", test_err[1])\n",
        "\n",
        "# Metrics Evaluation\n",
        "from sklearn.metrics import accuracy_score, precision_score, recall_score, f1_score, confusion_matrix\n",
        "\n",
        "y_pred = model2.predict(X_test)\n",
        "y_pred = (y_pred > 0.5).astype(int)\n",
        "y_true = y_test\n",
        "\n",
        "print(\"Test accuracy: %g\" % (accuracy_score(y_true, y_pred)))\n",
        "print(\"Precision:\", precision_score(y_true, y_pred, average=\"macro\"))\n",
        "print(\"Recall:\", recall_score(y_true, y_pred, average=\"macro\"))\n",
        "print(\"f1_score:\", f1_score(y_true, y_pred, average=\"macro\"))\n",
        "\n",
        "print(\"\\nConfusion matrix:\")\n",
        "conf = confusion_matrix(y_true, y_pred)\n",
        "print(conf)\n"
      ]
    },
    {
      "cell_type": "code",
      "source": [
        "from keras.models import Sequential\n",
        "from keras.layers import Conv2D, MaxPooling2D, GlobalAveragePooling2D, Dense, Dropout, BatchNormalization\n",
        "from keras.regularizers import l2\n",
        "from keras.callbacks import EarlyStopping, ModelCheckpoint\n",
        "\n",
        "model = Sequential()\n",
        "\n",
        "# Block 1\n",
        "model.add(Conv2D(32, (3, 3), activation='relu', input_shape=(50, 50, 3), padding='same'))\n",
        "model.add(Conv2D(32, (3, 3), activation='relu', padding='same'))\n",
        "model.add(MaxPooling2D(pool_size=(2, 2)))  # Downsampling\n",
        "model.add(BatchNormalization())\n",
        "\n",
        "# Block 2\n",
        "model.add(Conv2D(64, (3, 3), activation='relu', padding='same'))\n",
        "model.add(Conv2D(64, (3, 3), activation='relu', padding='same'))\n",
        "model.add(MaxPooling2D(pool_size=(2, 2)))\n",
        "model.add(BatchNormalization())\n",
        "\n",
        "# Block 3\n",
        "model.add(Conv2D(128, (3, 3), activation='relu', padding='same'))\n",
        "model.add(Conv2D(128, (3, 3), activation='relu', padding='same'))\n",
        "model.add(MaxPooling2D(pool_size=(2, 2)))\n",
        "model.add(BatchNormalization())\n",
        "\n",
        "# Block 4\n",
        "model.add(Conv2D(256, (3, 3), activation='relu', padding='same'))\n",
        "model.add(Conv2D(256, (3, 3), activation='relu', padding='same'))\n",
        "model.add(MaxPooling2D(pool_size=(2, 2)))\n",
        "model.add(BatchNormalization())\n",
        "\n",
        "# Global Average Pooling instead of Flatten\n",
        "model.add(GlobalAveragePooling2D())\n",
        "\n",
        "# Fully Connected Layers\n",
        "model.add(Dense(256, activation='relu', kernel_regularizer=l2(0.01)))\n",
        "model.add(Dropout(0.5))  # High dropout near dense layers\n",
        "\n",
        "model.add(Dense(1, activation='sigmoid'))\n",
        "\n",
        "# Compile the model\n",
        "model.compile(optimizer='adam', loss='binary_crossentropy', metrics=['accuracy', 'Precision', 'Recall'])\n",
        "\n",
        "# Callbacks\n",
        "early_stopping = EarlyStopping(patience=15, verbose=1)\n",
        "checkpointer = ModelCheckpoint(filepath='best_model.keras', save_best_only=True, verbose=1)\n",
        "\n",
        "# Train the model\n",
        "network_history = model.fit(\n",
        "    X_train, y_train,\n",
        "    batch_size=128, epochs=40, verbose=1, validation_split=0.2,\n",
        "    callbacks=[checkpointer, early_stopping]\n",
        ")\n",
        "\n",
        "# Load the best model and evaluate\n",
        "from keras.models import load_model\n",
        "model = load_model(\"best_model.keras\")\n",
        "test_err = model.evaluate(X_test, y_test)\n",
        "print(\"Loss on test set:\", test_err[0], \"Accuracy on test set:\", test_err[1])\n",
        "\n",
        "# Metrics Evaluation\n",
        "from sklearn.metrics import accuracy_score, precision_score, recall_score, f1_score, confusion_matrix\n",
        "\n",
        "y_pred = model.predict(X_test)\n",
        "y_pred = (y_pred > 0.5).astype(int)\n",
        "y_true = y_test\n",
        "\n",
        "print(\"Test accuracy: %g\" % (accuracy_score(y_true, y_pred)))\n",
        "print(\"Precision:\", precision_score(y_true, y_pred, average=\"macro\"))\n",
        "print(\"Recall:\", recall_score(y_true, y_pred, average=\"macro\"))\n",
        "print(\"f1_score:\", f1_score(y_true, y_pred, average=\"macro\"))\n",
        "\n",
        "print(\"\\nConfusion matrix:\")\n",
        "conf = confusion_matrix(y_true, y_pred)\n",
        "print(conf)\n"
      ],
      "metadata": {
        "id": "r4wXDkOXq2fw"
      },
      "execution_count": null,
      "outputs": []
    }
  ],
  "metadata": {
    "accelerator": "GPU",
    "colab": {
      "gpuType": "T4",
      "provenance": []
    },
    "kernelspec": {
      "display_name": "Python 3",
      "name": "python3"
    },
    "language_info": {
      "name": "python"
    }
  },
  "nbformat": 4,
  "nbformat_minor": 0
}